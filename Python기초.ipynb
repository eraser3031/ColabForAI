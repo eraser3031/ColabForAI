{
  "nbformat": 4,
  "nbformat_minor": 0,
  "metadata": {
    "colab": {
      "provenance": [],
      "collapsed_sections": [
        "UNjQuPf4dCEi",
        "3NbA5f4xdsTY",
        "Cga0QJajiHdI"
      ],
      "authorship_tag": "ABX9TyN7MR9Fso6O6TMLVXQ8UwQy",
      "include_colab_link": true
    },
    "kernelspec": {
      "name": "python3",
      "display_name": "Python 3"
    },
    "language_info": {
      "name": "python"
    }
  },
  "cells": [
    {
      "cell_type": "markdown",
      "metadata": {
        "id": "view-in-github",
        "colab_type": "text"
      },
      "source": [
        "<a href=\"https://colab.research.google.com/github/eraser3031/ColabForAI/blob/main/Python%EA%B8%B0%EC%B4%88.ipynb\" target=\"_parent\"><img src=\"https://colab.research.google.com/assets/colab-badge.svg\" alt=\"Open In Colab\"/></a>"
      ]
    },
    {
      "cell_type": "markdown",
      "source": [
        "# 1일차\n",
        "✅ 목표: Python 기본 문법을 이해하고, 변수와 데이터 타입을 직접 다뤄보기\n",
        "\n",
        "✅ 학습 내용:\n",
        "\n",
        "1️⃣ Python 개발 환경 설정 (Colab, Jupyter Notebook, VSCode 등)\n",
        "\n",
        "2️⃣ 변수와 데이터 타입 (int, float, str, list, dict)\n",
        "\n",
        "3️⃣ 리스트 & 딕셔너리 다루기\n",
        "\n"
      ],
      "metadata": {
        "id": "UNjQuPf4dCEi"
      }
    },
    {
      "cell_type": "code",
      "source": [
        "# 변수 선언\n",
        "name = \"예훈\"\n",
        "age = 25\n",
        "\n",
        "# 리스트 선언\n",
        "fruits = [\"사과\", \"바나나\", \"포도\"]\n",
        "\n",
        "# 출력\n",
        "print(f\"이름: {name}, 나이: {age}\")\n",
        "print(\"과일 목록:\", fruits)\n"
      ],
      "metadata": {
        "colab": {
          "base_uri": "https://localhost:8080/"
        },
        "id": "ws1deNDdbuY1",
        "outputId": "c59c7fdc-8af0-47b4-d650-a8b91d46263d"
      },
      "execution_count": null,
      "outputs": [
        {
          "output_type": "stream",
          "name": "stdout",
          "text": [
            "이름: 예훈, 나이: 25\n",
            "과일 목록: ['사과', '바나나', '포도']\n"
          ]
        }
      ]
    },
    {
      "cell_type": "code",
      "source": [
        "# 변수 선언\n",
        "x = 10       # 정수 (int)\n",
        "y = 3.14     # 실수 (float)\n",
        "name = \"예훈\"  # 문자열 (str)\n",
        "\n",
        "# 출력\n",
        "print(x)\n",
        "print(y)\n",
        "print(name)\n"
      ],
      "metadata": {
        "colab": {
          "base_uri": "https://localhost:8080/"
        },
        "id": "FhfN1HvHcDAA",
        "outputId": "af176fc3-1999-4c80-fd8c-024d8b23a90e"
      },
      "execution_count": null,
      "outputs": [
        {
          "output_type": "stream",
          "name": "stdout",
          "text": [
            "10\n",
            "3.14\n",
            "예훈\n"
          ]
        }
      ]
    },
    {
      "cell_type": "code",
      "source": [
        "# 딕셔너리 선언\n",
        "student = {\n",
        "    \"이름\": \"김철수\",\n",
        "    \"나이\": 20,\n",
        "    \"성적\": {\"수학\": 85, \"영어\": 90}\n",
        "}\n",
        "\n",
        "# 특정 값 출력\n",
        "print(student[\"이름\"])  # '김철수' 출력\n",
        "print(student[\"성적\"][\"수학\"])  # 수학 점수 85 출력\n",
        "print(f\"{student['이름']}의 성적은 {student['성적']}입니다.\")\n"
      ],
      "metadata": {
        "colab": {
          "base_uri": "https://localhost:8080/"
        },
        "id": "o_JKN6lqb0Dl",
        "outputId": "59d3dde5-9eb8-4cee-f9ef-cbdf33d6f910"
      },
      "execution_count": null,
      "outputs": [
        {
          "output_type": "stream",
          "name": "stdout",
          "text": [
            "김철수\n",
            "85\n",
            "김철수의 성적은 {'수학': 85, '영어': 90}입니다.\n"
          ]
        }
      ]
    },
    {
      "cell_type": "code",
      "source": [],
      "metadata": {
        "id": "6tIVsQn-6Skp"
      },
      "execution_count": null,
      "outputs": []
    },
    {
      "cell_type": "markdown",
      "source": [
        "# 2일차\n",
        "\n",
        "✅ 목표:\n",
        "- 조건문 (if-else)을 사용하여 코드 흐름 제어하기\n",
        "- 반복문 (for, while)을 활용해 리스트, 딕셔너리 데이터 처리하기\n",
        "\n",
        "✅ 오늘 배울 내용:\n",
        " - if-else 조건문\n",
        " - for 반복문\n",
        " - while 반복문\n",
        " - 리스트 & 딕셔너리에서 반복문 활용\n",
        "\n"
      ],
      "metadata": {
        "id": "3NbA5f4xdsTY"
      }
    },
    {
      "cell_type": "code",
      "source": [
        "# if-else 조건문\n",
        "age = 20\n",
        "\n",
        "if age >= 18:\n",
        "    print(\"성인입니다.\")\n",
        "else:\n",
        "    print(\"미성년자입니다.\")\n"
      ],
      "metadata": {
        "colab": {
          "base_uri": "https://localhost:8080/"
        },
        "id": "UQDPg2Y6d3DQ",
        "outputId": "ed9291e3-b6c4-42ff-df97-fa511fb627dd"
      },
      "execution_count": null,
      "outputs": [
        {
          "output_type": "stream",
          "name": "stdout",
          "text": [
            "성인입니다.\n"
          ]
        }
      ]
    },
    {
      "cell_type": "code",
      "source": [
        "age = int(input(\"나이를 입력하세요: \"))\n",
        "\n",
        "if age > 27:\n",
        "  print(\"나보다 나이가 많으시네요!\")\n",
        "elif age == 27:\n",
        "  print(\"동갑이시네요!\")\n",
        "else:\n",
        "  print(\"좋겠다~\")"
      ],
      "metadata": {
        "colab": {
          "base_uri": "https://localhost:8080/"
        },
        "id": "-kYaaScJd7vP",
        "outputId": "6655e19a-afdb-4319-b19f-be50fd1dda4b"
      },
      "execution_count": null,
      "outputs": [
        {
          "output_type": "stream",
          "name": "stdout",
          "text": [
            "나이를 입력하세요: 30\n",
            "나보다 나이가 많으시네요!\n"
          ]
        }
      ]
    },
    {
      "cell_type": "code",
      "source": [
        "# for 반복문\n",
        "fruits = [\"사과\", \"바나나\", \"포도\"]\n",
        "\n",
        "for fruit in fruits:\n",
        "    print(f\"나는 {fruit}를 좋아해!\")\n"
      ],
      "metadata": {
        "colab": {
          "base_uri": "https://localhost:8080/"
        },
        "id": "4yonFVQieSgN",
        "outputId": "58af6e56-81c7-47e3-a88c-4a3a4dfb1729"
      },
      "execution_count": null,
      "outputs": [
        {
          "output_type": "stream",
          "name": "stdout",
          "text": [
            "나는 사과를 좋아해!\n",
            "나는 바나나를 좋아해!\n",
            "나는 포도를 좋아해!\n"
          ]
        }
      ]
    },
    {
      "cell_type": "code",
      "source": [
        "subjects = [\"Python\", \"AI\", \"Machine Learning\"]\n",
        "for subject in subjects:\n",
        "  if subject == \"AI\":\n",
        "    print(\"당신은 AI 인재시네요!\")\n",
        "  else:\n",
        "    print(f\"{subject}도 재밌는 과목이죠!\")"
      ],
      "metadata": {
        "colab": {
          "base_uri": "https://localhost:8080/"
        },
        "id": "J6fGQ3ldedDg",
        "outputId": "3e276483-8d38-45e6-d1ca-7908025c87cd"
      },
      "execution_count": null,
      "outputs": [
        {
          "output_type": "stream",
          "name": "stdout",
          "text": [
            "Python도 재밌는 과목이죠!\n",
            "당신은 AI 인재시네요!\n",
            "Machine Learning도 재밌는 과목이죠!\n"
          ]
        }
      ]
    },
    {
      "cell_type": "code",
      "source": [
        "# while 반복문\n",
        "count = 0\n",
        "\n",
        "while count < 5:\n",
        "    print(f\"현재 숫자: {count}\")\n",
        "    count += 1"
      ],
      "metadata": {
        "colab": {
          "base_uri": "https://localhost:8080/"
        },
        "id": "9RL77FCQe8bE",
        "outputId": "97d490f2-3b4a-4495-84aa-f827a16cd2b6"
      },
      "execution_count": null,
      "outputs": [
        {
          "output_type": "stream",
          "name": "stdout",
          "text": [
            "현재 숫자: 0\n",
            "현재 숫자: 1\n",
            "현재 숫자: 2\n",
            "현재 숫자: 3\n",
            "현재 숫자: 4\n"
          ]
        }
      ]
    },
    {
      "cell_type": "code",
      "source": [
        "# 리스트에서 for문 사용\n",
        "numbers = [10, 20, 30, 40, 50]\n",
        "\n",
        "# 리스트의 모든 숫자를 두 배로 만들기\n",
        "for i in range(len(numbers)):\n",
        "    numbers[i] *= 2\n",
        "\n",
        "print(numbers)  # [20, 40, 60, 80, 100]\n"
      ],
      "metadata": {
        "colab": {
          "base_uri": "https://localhost:8080/"
        },
        "id": "yzRaO2ExfH_T",
        "outputId": "d8d3fb55-f274-482e-eca4-039984b963d4"
      },
      "execution_count": null,
      "outputs": [
        {
          "output_type": "stream",
          "name": "stdout",
          "text": [
            "[20, 40, 60, 80, 100]\n"
          ]
        }
      ]
    },
    {
      "cell_type": "code",
      "source": [
        "# 딕셔너리에서 for문 사용\n",
        "scores = {\"김철수\": 85, \"이영희\": 90, \"박민수\": 78}\n",
        "\n",
        "for name, score in scores.items():\n",
        "    print(f\"{name}의 점수는 {score}점입니다.\")\n"
      ],
      "metadata": {
        "colab": {
          "base_uri": "https://localhost:8080/"
        },
        "id": "cE-Vccy5fOUi",
        "outputId": "804873f6-5c25-4db1-f517-0ede22b97b05"
      },
      "execution_count": null,
      "outputs": [
        {
          "output_type": "stream",
          "name": "stdout",
          "text": [
            "김철수의 점수는 85점입니다.\n",
            "이영희의 점수는 90점입니다.\n",
            "박민수의 점수는 78점입니다.\n"
          ]
        }
      ]
    },
    {
      "cell_type": "code",
      "source": [
        "#테스트1\n",
        "languageInfo = {\"Python\": [1991, 1992], \"Java\": [1995, 1999], \"C\": [1972, 1990]}\n",
        "\n",
        "for name, years in languageInfo.items():\n",
        "  for i in range(len(years)):\n",
        "    print(f\"{name}은 {years[i]}에 {'개발' if i == 0 else '완료'}되었습니다.\")\n",
        "#테스트2\n",
        "multiples_of_three = []\n",
        "for num in range(1, 101):\n",
        "  if num % 3 == 0:\n",
        "    multiples_of_three.append(num)\n",
        "print(multiples_of_three)\n"
      ],
      "metadata": {
        "colab": {
          "base_uri": "https://localhost:8080/"
        },
        "id": "XnqftZAIfgmZ",
        "outputId": "c74080b3-5548-4a75-e8ea-1c41f35b4cba"
      },
      "execution_count": null,
      "outputs": [
        {
          "output_type": "stream",
          "name": "stdout",
          "text": [
            "Python은 1991에 개발되었습니다.\n",
            "Python은 1992에 완료되었습니다.\n",
            "Java은 1995에 개발되었습니다.\n",
            "Java은 1999에 완료되었습니다.\n",
            "C은 1972에 개발되었습니다.\n",
            "C은 1990에 완료되었습니다.\n",
            "[3, 6, 9, 12, 15, 18, 21, 24, 27, 30, 33, 36, 39, 42, 45, 48, 51, 54, 57, 60, 63, 66, 69, 72, 75, 78, 81, 84, 87, 90, 93, 96, 99]\n"
          ]
        }
      ]
    },
    {
      "cell_type": "code",
      "source": [],
      "metadata": {
        "id": "eSgog3oCfnmU"
      },
      "execution_count": null,
      "outputs": []
    },
    {
      "cell_type": "markdown",
      "source": [
        "# 3일차\n",
        "\n",
        "✅ 목표:\n",
        "- Python에서 함수(Function) 를 정의하고 사용하는 법 배우기\n",
        "- 파일을 읽고 쓰는 파일 입출력(I/O) 방법 익히기\n",
        "\n",
        "✅ 오늘 배울 내용:\n",
        " - 함수(def)의 개념과 활용\n",
        " - 파일 읽기 (open(), read())\n",
        " - 파일 쓰기 (write())\n",
        " - 예외 처리 (try-except)"
      ],
      "metadata": {
        "id": "Cga0QJajiHdI"
      }
    },
    {
      "cell_type": "code",
      "source": [
        "# 함수 정의\n",
        "def greet(name):\n",
        "    return f\"안녕하세요, {name}님!\"\n",
        "\n",
        "# 함수 호출\n",
        "message = greet(\"예훈\")\n",
        "print(message)\n"
      ],
      "metadata": {
        "id": "aGb5IsIViT03",
        "colab": {
          "base_uri": "https://localhost:8080/"
        },
        "outputId": "29d4b1d0-6cde-4f75-8002-d360db6d64a7"
      },
      "execution_count": null,
      "outputs": [
        {
          "output_type": "stream",
          "name": "stdout",
          "text": [
            "안녕하세요, 예훈님!\n"
          ]
        }
      ]
    },
    {
      "cell_type": "code",
      "source": [
        "# 파일 생성 (Colab에서 실행)\n",
        "with open(\"sample.txt\", \"w\", encoding=\"utf-8\") as file: # file 변수에 저장.\n",
        "    file.write(\"이것은 샘플 파일입니다.\\nPython은 재미있어요!\")\n",
        "\n",
        "# 파일 읽기\n",
        "with open(\"sample.txt\", \"r\", encoding=\"utf-8\") as file:\n",
        "    print(file.read())  # 파일 내용 출력\n"
      ],
      "metadata": {
        "colab": {
          "base_uri": "https://localhost:8080/"
        },
        "id": "xSHZKkFS4YFF",
        "outputId": "f65a0af4-c676-4acc-b52c-a65dcfd9b8a8"
      },
      "execution_count": null,
      "outputs": [
        {
          "output_type": "stream",
          "name": "stdout",
          "text": [
            "이것은 샘플 파일입니다.\n",
            "Python은 재미있어요!\n"
          ]
        }
      ]
    },
    {
      "cell_type": "code",
      "source": [
        "from datetime import datetime\n",
        "\n",
        "with open(\"log.txt\", \"w\", encoding=\"utf-8\") as file:\n",
        "    file.write(f\"로그 생성 시간: {datetime.now()}\\n\")\n",
        "\n",
        "with open(\"log.txt\", \"r\", encoding=\"utf-8\") as file:\n",
        "    print(file.read())\n"
      ],
      "metadata": {
        "colab": {
          "base_uri": "https://localhost:8080/"
        },
        "id": "stxRildD4svn",
        "outputId": "6ef6f5c1-6659-4dd1-c969-1f9402ee85e2"
      },
      "execution_count": null,
      "outputs": [
        {
          "output_type": "stream",
          "name": "stdout",
          "text": [
            "로그 생성 시간: 2025-01-31 10:24:03.946534\n",
            "\n"
          ]
        }
      ]
    },
    {
      "cell_type": "code",
      "source": [
        "try:\n",
        "    with open(\"없는파일.txt\", \"r\") as file:\n",
        "        content = file.read()\n",
        "        print(content)\n",
        "except FileNotFoundError:\n",
        "    print(\"파일이 존재하지 않습니다!\")\n"
      ],
      "metadata": {
        "colab": {
          "base_uri": "https://localhost:8080/"
        },
        "id": "s0C9N4gK48lu",
        "outputId": "5b28824e-1a70-4aee-ad00-0f6e99df4a6e"
      },
      "execution_count": null,
      "outputs": [
        {
          "output_type": "stream",
          "name": "stdout",
          "text": [
            "파일이 존재하지 않습니다!\n"
          ]
        }
      ]
    },
    {
      "cell_type": "markdown",
      "source": [
        "`with`은 Python의 컨텍스트 매니저 기능을 사용하는 키워드\n",
        "기능으로 치면 파일을 자동으로 닫아줘서 `close()`를 호출하지 않아도 된다."
      ],
      "metadata": {
        "id": "X0EdXMas5KHD"
      }
    },
    {
      "cell_type": "markdown",
      "source": [
        "![스크린샷 2025-01-31 오후 7.26.33.png](data:image/png;base64,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)"
      ],
      "metadata": {
        "id": "WzpfC7zQ5Xpk"
      }
    },
    {
      "cell_type": "code",
      "source": [
        "# 1️⃣ students.txt 파일 생성 (쓰기 모드)\n",
        "with open(\"students.txt\", \"w\", encoding=\"utf-8\") as file:\n",
        "    file.write(\"김철수,85\\n이영희,90\\n박민수,78\")\n",
        "\n",
        "# 2️⃣ 파일 읽기 및 평균 점수 계산\n",
        "total_score = 0\n",
        "count = 0\n",
        "\n",
        "with open(\"students.txt\", \"r\", encoding=\"utf-8\") as file:\n",
        "    for line in file:\n",
        "        # strip 문자열 앞뒤 공백 제거, 파일 읽을 시 \\n도 제거함.\n",
        "        name, score = line.strip().split(\",\")\n",
        "        total_score += int(score)\n",
        "        count += 1\n",
        "\n",
        "print(f\"학생들의 평균 점수: {total_score / count}\")\n"
      ],
      "metadata": {
        "colab": {
          "base_uri": "https://localhost:8080/"
        },
        "id": "HJjPUDFD541Y",
        "outputId": "2afa996c-99f3-404f-effa-02ceaf4eb8da"
      },
      "execution_count": null,
      "outputs": [
        {
          "output_type": "stream",
          "name": "stdout",
          "text": [
            "학생들의 평균 점수: 84.33333333333333\n"
          ]
        }
      ]
    }
  ]
}